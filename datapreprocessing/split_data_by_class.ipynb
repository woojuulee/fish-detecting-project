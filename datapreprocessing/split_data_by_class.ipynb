{
 "cells": [
  {
   "cell_type": "markdown",
   "metadata": {},
   "source": [
    "클래스별 데이터 증강을 위해 클래스에 따라 데이터를 분리하는 코드. "
   ]
  },
  {
   "cell_type": "code",
   "execution_count": 1,
   "metadata": {},
   "outputs": [
    {
     "name": "stdout",
     "output_type": "stream",
     "text": [
      "텍스트 파일 및 이미지 파일 분류가 완료되었습니다.\n"
     ]
    }
   ],
   "source": [
    "import os\n",
    "import shutil\n",
    "\n",
    "# 입력 폴더와 출력 폴더 설정\n",
    "input_folder = r'C:\\Users\\User\\fish\\dataset_ver6'\n",
    "output_folder = r'C:\\Users\\User\\fish\\dataset_ver6_class'\n",
    "os.makedirs(output_folder, exist_ok=True)\n",
    "\n",
    "img_folder = os.path.join(input_folder, 'images')\n",
    "lab_folder = os.path.join(input_folder, 'labels')\n",
    "\n",
    "for filename in os.listdir(lab_folder):\n",
    "    # 파일 경로 구성\n",
    "    file_path = os.path.join(lab_folder, filename)\n",
    "    # 텍스트 파일을 읽어서 클래스 정보 가져오기\n",
    "    with open(file_path, 'r') as file:\n",
    "        class_info = int(file.read().split()[0])\n",
    "\n",
    "    # 클래스 정보에 따라 해당하는 폴더로 이동\n",
    "    output_class_folder = os.path.join(output_folder, str(class_info))\n",
    "    os.makedirs(output_class_folder, exist_ok=True)\n",
    "    output_class1_folder = os.path.join(output_class_folder, str(class_info))\n",
    "    os.makedirs(output_class1_folder, exist_ok=True)\n",
    "    shutil.copy(file_path, os.path.join(output_class1_folder, filename))\n",
    "    \n",
    "    image_filename = filename.replace('.txt', '.png')  # 예를 들어, 이미지 파일 확장자에 따라 조정\n",
    "    image_path = os.path.join(img_folder, image_filename)\n",
    "    # if os.path.isfile(image_path):\n",
    "    output_class_folder = os.path.join(output_folder, str(class_info))\n",
    "    os.makedirs(output_class_folder, exist_ok=True)\n",
    "    output_class1_folder = os.path.join(output_class_folder, str(class_info))\n",
    "    os.makedirs(output_class1_folder, exist_ok=True)\n",
    "    shutil.copy(image_path, os.path.join(output_class1_folder, image_filename))\n",
    "\n",
    "print(\"텍스트 파일 및 이미지 파일 분류가 완료되었습니다.\")"
   ]
  }
 ],
 "metadata": {
  "kernelspec": {
   "display_name": "py39_augment",
   "language": "python",
   "name": "python3"
  },
  "language_info": {
   "codemirror_mode": {
    "name": "ipython",
    "version": 3
   },
   "file_extension": ".py",
   "mimetype": "text/x-python",
   "name": "python",
   "nbconvert_exporter": "python",
   "pygments_lexer": "ipython3",
   "version": "3.9.17"
  }
 },
 "nbformat": 4,
 "nbformat_minor": 2
}
