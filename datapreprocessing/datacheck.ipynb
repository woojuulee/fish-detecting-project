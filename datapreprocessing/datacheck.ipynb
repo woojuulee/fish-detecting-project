{
 "cells": [
  {
   "cell_type": "code",
   "execution_count": 1,
   "metadata": {},
   "outputs": [],
   "source": [
    "import os"
   ]
  },
  {
   "cell_type": "code",
   "execution_count": 6,
   "metadata": {},
   "outputs": [],
   "source": [
    "val_path = './val/'\n",
    "train_path = './train/'\n",
    "\n",
    "dataset_ver2_path = 'C:/Users/User/fish/dataset_ver2/labels/'"
   ]
  },
  {
   "cell_type": "code",
   "execution_count": 7,
   "metadata": {},
   "outputs": [],
   "source": [
    "def data_count(path) :\n",
    "    file_list = os.listdir(path)\n",
    "    file_list_py = [file for file in file_list if file.endswith('.txt')]\n",
    "\n",
    "    class_count = list(range(8))\n",
    "\n",
    "    for file in file_list_py:\n",
    "        fi = open(path + file,'r')\n",
    "        lines = fi.readlines()\n",
    "        for line in lines:\n",
    "            fish_class = int(line.strip(' ')[0])\n",
    "            class_count[fish_class] +=1\n",
    "        \n",
    "        fi.close()\n",
    "\n",
    "    print(\"total:\", sum(class_count))\n",
    "    for cno, cval in enumerate(class_count): print(f\"{cno}:{cval}\", end=' | ') \n"
   ]
  },
  {
   "cell_type": "code",
   "execution_count": 8,
   "metadata": {},
   "outputs": [
    {
     "name": "stdout",
     "output_type": "stream",
     "text": [
      "total: 6329\n",
      "0:180 | 1:2345 | 2:653 | 3:2135 | 4:105 | 5:164 | 6:154 | 7:593 | "
     ]
    }
   ],
   "source": [
    "data_count(dataset_ver2_path)"
   ]
  },
  {
   "cell_type": "code",
   "execution_count": 33,
   "metadata": {},
   "outputs": [
    {
     "name": "stdout",
     "output_type": "stream",
     "text": [
      "train data 클래스별 count\n",
      "total: 5063\n",
      "0:138 | 1:1865 | 2:540 | 3:1696 | 4:89 | 5:139 | 6:128 | 7:468 | \n",
      "\n",
      "val data 클래스별 count\n",
      "total: 1294\n",
      "0:42 | 1:481 | 2:115 | 3:442 | 4:20 | 5:30 | 6:32 | 7:132 | "
     ]
    }
   ],
   "source": [
    "print('train data 클래스별 count')\n",
    "data_count(train_path)\n",
    "print('\\n')\n",
    "print('val data 클래스별 count')\n",
    "data_count(val_path)\n",
    "\n"
   ]
  }
 ],
 "metadata": {
  "kernelspec": {
   "display_name": "py39_test",
   "language": "python",
   "name": "python3"
  },
  "language_info": {
   "codemirror_mode": {
    "name": "ipython",
    "version": 3
   },
   "file_extension": ".py",
   "mimetype": "text/x-python",
   "name": "python",
   "nbconvert_exporter": "python",
   "pygments_lexer": "ipython3",
   "version": "3.9.17"
  }
 },
 "nbformat": 4,
 "nbformat_minor": 2
}
