{
 "cells": [
  {
   "cell_type": "code",
   "execution_count": 14,
   "metadata": {},
   "outputs": [],
   "source": [
    "import json\n",
    "\n",
    "def make_result_json(test_result_path): #test_result_path : test data 결과 json 파일의 경로\n",
    "\n",
    "    f = open(test_result_path) \n",
    "    pred_data = json.load(f)\n",
    "    f.close()\n",
    "\n",
    "    sample_file = open(\"C:/Users/User/fish/dataset/labels/answer_sample.json\") # 주어진 답안 샘플 json 파일의 경로. 각자에 맞춰 수정 필요.\n",
    "    sample = json.load(sample_file)\n",
    "    sample_file.close()\n",
    "\n",
    "    sample['annotations']=[]\n",
    "\n",
    "    i=0\n",
    "    for data in pred_data:\n",
    "        dic={'id':0,\n",
    "            'image_id':0, #data['image_id'].split('_')[1]\n",
    "            'category_id': 0, #data['category_id']\n",
    "            'segmentation': [],\n",
    "            'area': 0, # data['bbox'][2]*data['bbox'][3] \n",
    "            'bbox': [], # data['bbox']\n",
    "            'iscrowd': 0,\n",
    "            'attributes': {'occluded': False, 'rotation': 0.0}}\n",
    "        \n",
    "        dic['id'] = i\n",
    "        dic['image_id'] = int(data['image_id'].split('_')[1])\n",
    "        dic['category_id'] = data['category_id']\n",
    "        dic['area'] = data['bbox'][2]*data['bbox'][3]\n",
    "        dic['bbox'] = data['bbox']\n",
    "\n",
    "        i+=1\n",
    "        sample['annotations'].append(dic)\n",
    "\n",
    "    return sample \n",
    "\n",
    "result = make_result_json(\"C:/Users/User/fish/yolov5/runs/val/exp/best_predictions.json\")\n",
    "\n",
    "file_path = 'passionnet_ver1.json' # 제출할 결과파일의 경로 및 이름\n",
    "with open(file_path,'w') as f:\n",
    "    json.dump(result, f)"
   ]
  }
 ],
 "metadata": {
  "kernelspec": {
   "display_name": "yolov5",
   "language": "python",
   "name": "python3"
  },
  "language_info": {
   "codemirror_mode": {
    "name": "ipython",
    "version": 3
   },
   "file_extension": ".py",
   "mimetype": "text/x-python",
   "name": "python",
   "nbconvert_exporter": "python",
   "pygments_lexer": "ipython3",
   "version": "3.8.18"
  }
 },
 "nbformat": 4,
 "nbformat_minor": 2
}
